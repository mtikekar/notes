{
 "cells": [
  {
   "cell_type": "code",
   "execution_count": 1,
   "metadata": {},
   "outputs": [],
   "source": [
    "import torch\n",
    "import torch.nn as nn\n",
    "import torch.nn.functional as F\n",
    "from copy import deepcopy"
   ]
  },
  {
   "cell_type": "markdown",
   "metadata": {},
   "source": [
    "An autolayer saves the arguments used to initialize the actual layer.\n",
    "The actual layer is intialized when the first input is provided."
   ]
  },
  {
   "cell_type": "code",
   "execution_count": 6,
   "metadata": {},
   "outputs": [],
   "source": [
    "class AutoLayer(nn.Module):\n",
    "    def __init__(self, *args, **kw):\n",
    "        self._autoargs = deepcopy(args)\n",
    "        self._autokw = deepcopy(kw)\n",
    "        super().__init__()\n",
    "\n",
    "    def forward(self, *args, **kw):\n",
    "        self.__class__ = self._autocls\n",
    "        self.__init__(args[0].shape[1], *self._autoargs, **self._autokw)\n",
    "        return self.forward(*args, **kw)\n",
    "\n",
    "    def extra_repr(self):\n",
    "        alist = ['_'] + [repr(a) for a in self._autoargs]\n",
    "        alist += [k + '=' + repr(v) for k,v in self._autokw.items()]\n",
    "        return ', '.join(alist)"
   ]
  },
  {
   "cell_type": "code",
   "execution_count": 7,
   "metadata": {},
   "outputs": [],
   "source": [
    "class AutoConv2d(AutoLayer):\n",
    "    _autocls = nn.Conv2d\n",
    "\n",
    "class AutoLinear(AutoLayer):\n",
    "    _autocls = nn.Linear\n",
    "\n",
    "class AutoBatchNorm2d(AutoLayer):\n",
    "    _autocls = nn.BatchNorm2d"
   ]
  },
  {
   "cell_type": "markdown",
   "metadata": {},
   "source": [
    "Sample CNN with skip-concat connections:"
   ]
  },
  {
   "cell_type": "code",
   "execution_count": 8,
   "metadata": {},
   "outputs": [],
   "source": [
    "class Net1(nn.Module):\n",
    "    def __init__(self):\n",
    "        super().__init__()\n",
    "        self.conv1 = AutoConv2d(32, kernel_size=3, padding=1, bias=False)\n",
    "        self.bn1 = AutoBatchNorm2d()\n",
    "        self.conv2 = AutoConv2d(64, kernel_size=3, padding=1, bias=False)\n",
    "        self.bn2 = AutoBatchNorm2d()\n",
    "        self.fc = AutoLinear(10)\n",
    "\n",
    "    def forward(self, x):\n",
    "        y = self.conv1(x)\n",
    "        y = self.bn1(y)\n",
    "        y = F.relu(y)\n",
    "        y1 = F.max_pool2d(y, 2)\n",
    "\n",
    "        y = self.conv2(y1)\n",
    "        y = self.bn2(y)\n",
    "        y = F.relu(y)\n",
    "        y = torch.cat([y1, y], dim=1)\n",
    "\n",
    "        y = F.max_pool2d(y, 2)\n",
    "        y = y.view(y.shape[0], -1)\n",
    "        return self.fc(y)"
   ]
  },
  {
   "cell_type": "markdown",
   "metadata": {},
   "source": [
    "Create the model as usual. The only difference is that the model starts out \"empty\". After one input is provided, it gets properly initialized."
   ]
  },
  {
   "cell_type": "code",
   "execution_count": 9,
   "metadata": {},
   "outputs": [
    {
     "data": {
      "text/plain": [
       "Net1(\n",
       "  (conv1): AutoConv2d(_, 32, kernel_size=3, padding=1, bias=False)\n",
       "  (bn1): AutoBatchNorm2d(_)\n",
       "  (conv2): AutoConv2d(_, 64, kernel_size=3, padding=1, bias=False)\n",
       "  (bn2): AutoBatchNorm2d(_)\n",
       "  (fc): AutoLinear(_, 10)\n",
       ")"
      ]
     },
     "execution_count": 9,
     "metadata": {},
     "output_type": "execute_result"
    }
   ],
   "source": [
    "model = Net1()\n",
    "model"
   ]
  },
  {
   "cell_type": "code",
   "execution_count": 6,
   "metadata": {},
   "outputs": [
    {
     "data": {
      "text/plain": [
       "tensor([[ 0.4880, -0.2052,  0.4830,  0.2529, -0.9341, -0.6224,  0.1815, -0.1040,\n",
       "         -0.6797, -0.4987]], grad_fn=<AddmmBackward>)"
      ]
     },
     "execution_count": 6,
     "metadata": {},
     "output_type": "execute_result"
    }
   ],
   "source": [
    "y = model(torch.randn(1, 3, 32, 32))\n",
    "y"
   ]
  },
  {
   "cell_type": "code",
   "execution_count": 7,
   "metadata": {},
   "outputs": [
    {
     "data": {
      "text/plain": [
       "Net1(\n",
       "  (conv1): Conv2d(3, 32, kernel_size=(3, 3), stride=(1, 1), padding=(1, 1), bias=False)\n",
       "  (bn1): BatchNorm2d(32, eps=1e-05, momentum=0.1, affine=True, track_running_stats=True)\n",
       "  (conv2): Conv2d(32, 64, kernel_size=(3, 3), stride=(1, 1), padding=(1, 1), bias=False)\n",
       "  (bn2): BatchNorm2d(64, eps=1e-05, momentum=0.1, affine=True, track_running_stats=True)\n",
       "  (fc): Linear(in_features=6144, out_features=10, bias=True)\n",
       ")"
      ]
     },
     "execution_count": 7,
     "metadata": {},
     "output_type": "execute_result"
    }
   ],
   "source": [
    "model"
   ]
  },
  {
   "cell_type": "markdown",
   "metadata": {},
   "source": [
    "Notice how the layers have changed from `AutoConv2d` to `Conv2d`."
   ]
  }
 ],
 "metadata": {
  "kernelspec": {
   "display_name": "PyTorch",
   "language": "python",
   "name": "pytorch"
  },
  "language_info": {
   "codemirror_mode": {
    "name": "ipython",
    "version": 3
   },
   "file_extension": ".py",
   "mimetype": "text/x-python",
   "name": "python",
   "nbconvert_exporter": "python",
   "pygments_lexer": "ipython3",
   "version": "3.6.7"
  }
 },
 "nbformat": 4,
 "nbformat_minor": 2
}
